{
 "cells": [
  {
   "cell_type": "markdown",
   "id": "6c17775d",
   "metadata": {},
   "source": [
    "Given a year, determine whether it is a leap year. \n",
    "If it is a leap year, return the Boolean True, \n",
    "    otherwise return False. \n",
    "Note: use function leap_year() to check if its leap year, use main function and flag.\n",
    "\n",
    "An extra day is added to the calendar almost every four years as February 29, and the day is called a leap day. It corrects the calendar for the fact that our planet takes approximately 365.25 days to orbit the sun. A leap year contains a leap day.\n",
    "\n",
    "In the Gregorian calendar, three conditions are used to identify leap years: \n",
    "The year can be evenly divided by 4, is a leap year, \n",
    "    unless: The year can be evenly divided by 100, it is NOT a leap year, \n",
    "        unless: The year is also evenly divisible by 400. \n",
    "            Then it is a leap year. \n",
    "This means that in the Gregorian calendar:\n",
    "the years 2000 and 2400 are leap years\n",
    "while 1800, 1900, 2100, 2200, 2300 and 2500 are NOT leap years."
   ]
  },
  {
   "cell_type": "code",
   "execution_count": 1,
   "id": "cd79f032",
   "metadata": {},
   "outputs": [
    {
     "name": "stdout",
     "output_type": "stream",
     "text": [
      "2004\n",
      "True\n"
     ]
    }
   ],
   "source": [
    "def is_leap(year):\n",
    "    leap = False\n",
    "    if year % 4 == 0:\n",
    "        if year % 100 == 0:\n",
    "            if year % 400 == 0:\n",
    "                leap = True\n",
    "        else:\n",
    "            leap = True\n",
    "    return leap\n",
    "year = int(input())\n",
    "print(is_leap(year))"
   ]
  },
  {
   "cell_type": "code",
   "execution_count": null,
   "id": "b4481925",
   "metadata": {},
   "outputs": [],
   "source": []
  }
 ],
 "metadata": {
  "kernelspec": {
   "display_name": "Python 3 (ipykernel)",
   "language": "python",
   "name": "python3"
  },
  "language_info": {
   "codemirror_mode": {
    "name": "ipython",
    "version": 3
   },
   "file_extension": ".py",
   "mimetype": "text/x-python",
   "name": "python",
   "nbconvert_exporter": "python",
   "pygments_lexer": "ipython3",
   "version": "3.9.12"
  }
 },
 "nbformat": 4,
 "nbformat_minor": 5
}
