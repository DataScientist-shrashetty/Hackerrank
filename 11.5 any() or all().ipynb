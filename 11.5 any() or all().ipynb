{
 "cells": [
  {
   "cell_type": "code",
   "execution_count": null,
   "id": "4b8a82fc",
   "metadata": {},
   "outputs": [],
   "source": [
    "# Python Builtins # any()\n",
    "This expression returns True if any element of the iterable is true.\n",
    "If the iterable is empty, it will return False.\n",
    "\n",
    "Code\n",
    "\n",
    ">>> any([1>0,1==0,1<0])\n",
    "True\n",
    ">>> any([1<0,2<1,3<2])\n",
    "False\n",
    "all()\n",
    "This expression returns True if all of the elements of the iterable are true. If the iterable is empty, it will return True.\n",
    "\n",
    "Code\n",
    "\n",
    ">>> all(['a'<'b','b'<'c'])\n",
    "True\n",
    ">>> all(['a'<'b','c'<'b'])\n",
    "False\n",
    "Task\n",
    "\n",
    "You are given a space separated list of integers. If all the integers are positive, then you need to check if any integer is a palindromic integer.\n",
    "\n",
    "Input Format\n",
    "\n",
    "The first line contains an integer .  is the total number of integers in the list.\n",
    "The second line contains the space separated list of  integers.\n",
    "\n",
    "Constraints\n",
    "\n",
    "\n",
    "Output Format\n",
    "\n",
    "Print True if all the conditions of the problem statement are satisfied. Otherwise, print False.\n",
    "\n",
    "Sample Input\n",
    "\n",
    "5\n",
    "12 9 61 5 14 \n",
    "Sample Output\n",
    "\n",
    "True\n",
    "\n",
    "Explanation\n",
    "\n",
    "Condition 1: All the integers in the list are positive.\n",
    "Condition 2: 5 is a palindromic integer.\n",
    "\n",
    "Hence, the output is True.\n",
    "\n",
    "Can you solve this challenge in 3 lines of code or less?\n",
    "There is no penalty for solutions that are correct but have more than 3 lines.\n"
   ]
  },
  {
   "cell_type": "code",
   "execution_count": 1,
   "id": "a98a09aa",
   "metadata": {},
   "outputs": [
    {
     "name": "stdout",
     "output_type": "stream",
     "text": [
      "7\n",
      "23 45 67 89 99 100 56\n",
      "True\n"
     ]
    }
   ],
   "source": [
    "n = int(input())\n",
    "a = list(map(int, input().split()))\n",
    "print(all([(any(str(i)==str(i)[::-1] for i in a)),(all(i>0 for i in a))]))"
   ]
  },
  {
   "cell_type": "code",
   "execution_count": null,
   "id": "b7989e02",
   "metadata": {},
   "outputs": [],
   "source": []
  }
 ],
 "metadata": {
  "kernelspec": {
   "display_name": "Python 3 (ipykernel)",
   "language": "python",
   "name": "python3"
  },
  "language_info": {
   "codemirror_mode": {
    "name": "ipython",
    "version": 3
   },
   "file_extension": ".py",
   "mimetype": "text/x-python",
   "name": "python",
   "nbconvert_exporter": "python",
   "pygments_lexer": "ipython3",
   "version": "3.9.12"
  }
 },
 "nbformat": 4,
 "nbformat_minor": 5
}
