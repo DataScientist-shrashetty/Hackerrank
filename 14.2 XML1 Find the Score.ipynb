{
 "cells": [
  {
   "cell_type": "markdown",
   "id": "13af690e",
   "metadata": {},
   "source": [
    "You are given a valid XML document, and you have to print its score. \n",
    "The score is calculated by the sum of the score of each element. \n",
    "For any element, the score is equal to the number of attributes it has.\n",
    "\n",
    "Input Format\n",
    "The first line contains N, the number of lines in the XML document.\n",
    "The next N lines follow containing the XML document.\n",
    "\n",
    "Output Format\n",
    "Output a single line, the integer score of the given XML document.\n",
    "\n",
    "Sample Input\n",
    "6\n",
    "<feed xml:lang='en'>\n",
    "    <title>HackerRank</title>\n",
    "    <subtitle lang='en'>Programming challenges</subtitle>\n",
    "    <link rel='alternate' type='text/html' href='http://hackerrank.com/'/>\n",
    "    <updated>2013-12-25T12:00:00</updated>\n",
    "</feed>\n",
    "\n",
    "Sample Output\n",
    "5\n",
    "\n",
    "Explanation\n",
    "The feed and subtitle tag have one attribute each - lang.\n",
    "The title and updated tags have no attributes.\n",
    "The link tag has three attributes - rel, type and href.\n",
    "So, the total score is .\n",
    "There may be any level of nesting in the XML document. To learn about XML parsing, refer here.\n",
    "NOTE: In order to parse and generate an XML element tree, use the following code:\n",
    "        >> import xml.etree.ElementTree as etree\n",
    "        >> tree = etree.ElementTree(etree.fromstring(xml))\n",
    "        Here, XML is the variable containing the string.\n",
    "        Also, to find the number of keys in a dictionary, use the len function:\n",
    "\n",
    "        >> dicti = {'0': 'This is zero', '1': 'This is one'}\n",
    "        >> print (len(dicti))\n",
    "        2"
   ]
  },
  {
   "cell_type": "code",
   "execution_count": null,
   "id": "6c5a0a68",
   "metadata": {},
   "outputs": [],
   "source": [
    "import sys\n",
    "import xml.etree.ElementTree as etree\n",
    "def get_attr_number(node):\n",
    "    return len(node.attrib) + sum(get_attr_number(child) for child in node);\n",
    "if __name__ == '__main__':\n",
    "    sys.stdin.readline()\n",
    "    xml = sys.stdin.read()\n",
    "    tree = etree.ElementTree(etree.fromstring(xml))\n",
    "    root = tree.getroot()\n",
    "    print(get_attr_number(root))"
   ]
  }
 ],
 "metadata": {
  "kernelspec": {
   "display_name": "Python 3 (ipykernel)",
   "language": "python",
   "name": "python3"
  },
  "language_info": {
   "codemirror_mode": {
    "name": "ipython",
    "version": 3
   },
   "file_extension": ".py",
   "mimetype": "text/x-python",
   "name": "python",
   "nbconvert_exporter": "python",
   "pygments_lexer": "ipython3",
   "version": "3.9.12"
  }
 },
 "nbformat": 4,
 "nbformat_minor": 5
}
