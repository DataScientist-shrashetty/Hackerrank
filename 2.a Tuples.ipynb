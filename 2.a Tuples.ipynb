{
 "cells": [
  {
   "cell_type": "code",
   "execution_count": null,
   "id": "5c4acd77",
   "metadata": {},
   "outputs": [],
   "source": [
    "Given an integer,n, and n space-separated integers as input, create a tuple,t, of those n integers. \n",
    "Then compute and print the result of hash(t).\n",
    "    Note: hash() is one of the functions in the __builtins__ module, so it need not be imported.\n",
    "\n",
    "Input Format:\n",
    "    The first line contains an integer,n, denoting the number of elements in the tuple.\n",
    "    The second line contains n space-separated integers describing the elements in tuple t.\n",
    "\n",
    "Output Format:\n",
    "    Print the result of hash(t).\n",
    "\n",
    "Sample Input:\n",
    "2\n",
    "1 2\n",
    "\n",
    "Sample Output:\n",
    "3713081631934410656"
   ]
  },
  {
   "cell_type": "code",
   "execution_count": 5,
   "id": "a3595ce9",
   "metadata": {},
   "outputs": [
    {
     "name": "stdout",
     "output_type": "stream",
     "text": [
      "2\n",
      "1 2\n",
      "-3550055125485641917\n"
     ]
    }
   ],
   "source": [
    "if __name__ == '__main__':\n",
    "    n = int(input())\n",
    "    integer_list = map(int, input().split())\n",
    "    t = tuple(integer_list)\n",
    "    print(hash(t))"
   ]
  },
  {
   "cell_type": "code",
   "execution_count": null,
   "id": "129a22a2",
   "metadata": {},
   "outputs": [],
   "source": []
  }
 ],
 "metadata": {
  "kernelspec": {
   "display_name": "Python 3 (ipykernel)",
   "language": "python",
   "name": "python3"
  },
  "language_info": {
   "codemirror_mode": {
    "name": "ipython",
    "version": 3
   },
   "file_extension": ".py",
   "mimetype": "text/x-python",
   "name": "python",
   "nbconvert_exporter": "python",
   "pygments_lexer": "ipython3",
   "version": "3.9.12"
  }
 },
 "nbformat": 4,
 "nbformat_minor": 5
}
