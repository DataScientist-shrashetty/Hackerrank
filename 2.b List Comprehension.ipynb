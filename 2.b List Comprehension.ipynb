{
 "cells": [
  {
   "cell_type": "markdown",
   "id": "936ab830",
   "metadata": {},
   "source": [
    "You are given three integers  and  representing the dimensions of a cuboid along with an integer . \n",
    "Print a list of all possible coordinates given by  on a 3D grid where the sum of  is not equal to . \n",
    "Here, . Please use list comprehensions rather than multiple loops, as a learning exercise.\n",
    "Example\n",
    "All permutations of  are:\n",
    "Print an array of the elements that do not sum to .\n",
    "Input Format\n",
    "Four integers  and , each on a separate line.\n",
    "Constraints\n",
    "Print the list in lexicographic increasing order.\n",
    "Sample Input 0\n",
    "1\n",
    "1\n",
    "1\n",
    "2\n",
    "Sample Output 0\n",
    "[[0, 0, 0], [0, 0, 1], [0, 1, 0], [1, 0, 0], [1, 1, 1]]\n",
    "Explanation 0\n",
    "Each variable  and  will have values of  or . All permutations of lists in the form .\n",
    "Remove all arrays that sum to  to leave only the valid permutations.\n",
    "Sample Input 1\n",
    "2\n",
    "2\n",
    "2\n",
    "2\n",
    "Sample Output 1:\n",
    "[[0, 0, 0], [0, 0, 1], [0, 1, 0], [0, 1, 2], [0, 2, 1], [0, 2, 2], [1, 0, 0], [1, 0, 2], [1, 1, 1], [1, 1, 2], [1, 2, 0], [1, 2, 1], [1, 2, 2], [2, 0, 1], [2, 0, 2], [2, 1, 0], [2, 1, 1], [2, 1, 2], [2, 2, 0], [2, 2, 1], [2, 2, 2]]"
   ]
  },
  {
   "cell_type": "code",
   "execution_count": 1,
   "id": "5a59040d",
   "metadata": {},
   "outputs": [
    {
     "name": "stdout",
     "output_type": "stream",
     "text": [
      "2\n",
      "2\n",
      "2\n",
      "2\n",
      "[[0, 0, 0], [0, 0, 1], [0, 1, 0], [0, 1, 2], [0, 2, 1], [0, 2, 2], [1, 0, 0], [1, 0, 2], [1, 1, 1], [1, 1, 2], [1, 2, 0], [1, 2, 1], [1, 2, 2], [2, 0, 1], [2, 0, 2], [2, 1, 0], [2, 1, 1], [2, 1, 2], [2, 2, 0], [2, 2, 1], [2, 2, 2]]\n"
     ]
    }
   ],
   "source": [
    "if __name__ == '__main__':\n",
    "    x = int(input())\n",
    "    y = int(input())\n",
    "    z = int(input())\n",
    "    n = int(input())\n",
    "    print([ [ i, j, k] for i in range( x+1) for j in range( y+1)for k in range( z+1) if (i+j+k)!=n ])"
   ]
  },
  {
   "cell_type": "code",
   "execution_count": null,
   "id": "91a204f3",
   "metadata": {},
   "outputs": [],
   "source": []
  }
 ],
 "metadata": {
  "kernelspec": {
   "display_name": "Python 3 (ipykernel)",
   "language": "python",
   "name": "python3"
  },
  "language_info": {
   "codemirror_mode": {
    "name": "ipython",
    "version": 3
   },
   "file_extension": ".py",
   "mimetype": "text/x-python",
   "name": "python",
   "nbconvert_exporter": "python",
   "pygments_lexer": "ipython3",
   "version": "3.9.12"
  }
 },
 "nbformat": 4,
 "nbformat_minor": 5
}
