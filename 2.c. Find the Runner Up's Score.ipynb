{
 "cells": [
  {
   "cell_type": "markdown",
   "id": "3a143bdb",
   "metadata": {},
   "source": [
    "Given the participants' score sheet for your University Sports Day, \n",
    "you are required to find the runner-up score. \n",
    "You are given n scores. \n",
    "Store them in a list and find the score of the runner-up.\n",
    "Input Format\n",
    "The first line contains n. The second line contains an array A[] of n integers each separated by a space.\n",
    "Constraints:\n",
    "2<=n<=10\n",
    "-100<=A[i]<=100\n",
    "Output Format:\n",
    "Print the runner-up score\n",
    "Sample Input 0\n",
    "5\n",
    "2 3 6 6 5\n",
    "Sample Output 0\n",
    "5\n",
    "Explanation 0\n",
    "Given list is [2,3,6,6,5].The maximum score is 6, second maximum is 5. Hence, we print 5 as the runner-up score."
   ]
  },
  {
   "cell_type": "code",
   "execution_count": 1,
   "id": "b50ed438",
   "metadata": {},
   "outputs": [
    {
     "name": "stdout",
     "output_type": "stream",
     "text": [
      "2\n",
      "2 4\n",
      "2\n"
     ]
    }
   ],
   "source": [
    "if __name__ == '__main__':\n",
    "    n = int(input())\n",
    "    arr = map(int, input().split())\n",
    "    list1 = list(arr)\n",
    "    list1.sort(reverse = True)\n",
    "    n = len(list1)\n",
    "    for i in range(1, n):\n",
    "        if list1[0] != list1[i]:\n",
    "            smx = list1[i]\n",
    "            break\n",
    "    print(smx)"
   ]
  },
  {
   "cell_type": "code",
   "execution_count": null,
   "id": "4921b166",
   "metadata": {},
   "outputs": [],
   "source": []
  }
 ],
 "metadata": {
  "kernelspec": {
   "display_name": "Python 3 (ipykernel)",
   "language": "python",
   "name": "python3"
  },
  "language_info": {
   "codemirror_mode": {
    "name": "ipython",
    "version": 3
   },
   "file_extension": ".py",
   "mimetype": "text/x-python",
   "name": "python",
   "nbconvert_exporter": "python",
   "pygments_lexer": "ipython3",
   "version": "3.9.12"
  }
 },
 "nbformat": 4,
 "nbformat_minor": 5
}
