{
 "cells": [
  {
   "cell_type": "markdown",
   "id": "ce0cf75c",
   "metadata": {},
   "source": [
    "Given the names and grades for each student in a class of N students, \n",
    "store them in a nested list and print the name(s) of any student(s) having the second lowest grade.\n",
    "Note: If there are multiple students with the second lowest grade, order their names alphabetically and \n",
    "    print each name on a new line.\n",
    "Example\n",
    "records=[[\"chi\",20.0],[\"beta\",50.0],[\"alpha\",50.0]]\n",
    "The ordered list of scores is [20.0,50.0], so the second lowest score is 50.0. \n",
    "There are two students with that score: [\"beta\",\"alpha\"]. \n",
    "Ordered alphabetically, the names are printed as:\n",
    "    alpha\n",
    "    beta\n",
    "Input Format\n",
    "\n",
    "The first line contains an integer,N, the number of students.\n",
    "The 2N subsequent lines describe each student over  lines.\n",
    "- The first line contains a student's name.\n",
    "- The second line contains their grade.\n",
    "\n",
    "Constraints\n",
    "2<=N<=5\n",
    "Output Format\n",
    "Print the name(s) of any student(s) having the second lowest grade in. \n",
    "If there are multiple students, order their names alphabetically and print each one on a new line.\n",
    "Sample Input 0\n",
    "5\n",
    "Harry\n",
    "37.21\n",
    "Berry\n",
    "37.21\n",
    "Tina\n",
    "37.2\n",
    "Akriti\n",
    "41\n",
    "Harsh\n",
    "39\n",
    "Sample Output 0\n",
    "Berry\n",
    "Harry\n",
    "Explanation 0\n",
    "There are 5 students in this class whose names and grades are assembled to build the following list:\n",
    "python students = [['Harry', 37.21], ['Berry', 37.21], ['Tina', 37.2], ['Akriti', 41], ['Harsh', 39]]\n",
    "The lowest grade of 37.2 belongs to Tina. \n",
    "The second lowest grade of 37.21 belongs to both Harry and Berry, \n",
    "so we order their names alphabetically and print each name on a new line."
   ]
  },
  {
   "cell_type": "code",
   "execution_count": 1,
   "id": "ecc7d99b",
   "metadata": {},
   "outputs": [
    {
     "name": "stdout",
     "output_type": "stream",
     "text": [
      "5\n",
      "Ram\n",
      "50.0\n",
      "Rita\n",
      "80.0\n",
      "Lax\n",
      "90\n",
      "rami\n",
      "99\n",
      "lan\n",
      "90\n",
      "Rita\n"
     ]
    }
   ],
   "source": [
    "if __name__ == '__main__':\n",
    "    students = []\n",
    "    for _ in range(int(input())):\n",
    "        name = input()\n",
    "        score = float(input())\n",
    "        students.append([name,score])\n",
    "    x = 999\n",
    "    for i in range(len(students)):\n",
    "        if x > float(students[i][1]):\n",
    "            x = float(students[i][1])\n",
    "    y = 999\n",
    "    for i in range(len(students)):\n",
    "        if float(students[i][1]) > float(x) and y > float(students[i][1]):\n",
    "            y = float(students[i][1])\n",
    "    runner = []\n",
    "    for i in range(len(students)):\n",
    "        if float(students[i][1]) == float(y):\n",
    "            runner.append(students[i][0])\n",
    "    runner = sorted(runner)\n",
    "    for i in range(len(runner)):\n",
    "        print(runner[i])"
   ]
  },
  {
   "cell_type": "code",
   "execution_count": null,
   "id": "62de32a7",
   "metadata": {},
   "outputs": [],
   "source": []
  }
 ],
 "metadata": {
  "kernelspec": {
   "display_name": "Python 3 (ipykernel)",
   "language": "python",
   "name": "python3"
  },
  "language_info": {
   "codemirror_mode": {
    "name": "ipython",
    "version": 3
   },
   "file_extension": ".py",
   "mimetype": "text/x-python",
   "name": "python",
   "nbconvert_exporter": "python",
   "pygments_lexer": "ipython3",
   "version": "3.9.12"
  }
 },
 "nbformat": 4,
 "nbformat_minor": 5
}
