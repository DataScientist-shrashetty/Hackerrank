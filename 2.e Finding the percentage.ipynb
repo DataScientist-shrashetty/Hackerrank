{
 "cells": [
  {
   "cell_type": "code",
   "execution_count": null,
   "id": "552aa777",
   "metadata": {},
   "outputs": [],
   "source": [
    "# Python:Basic Data Types:Finding the percentage\n",
    "The provided code stub will read in a dictionary containing key/value pairs of name:[marks] for a list of students. \n",
    "    Print the average of the marks array for the student name provided, showing 2 places after the decimal.\n",
    "Example\n",
    "marks key:value pairs are\n",
    "    \"alpha\":[20,30,40]\n",
    "    \"beta\" :[30,50,70]\n",
    "query_name=\"beta\"\n",
    "The query_name is 'beta'. beta's average score is\n",
    "(30+50+70)/3 =50.0\n",
    "Input Format\n",
    "The first line contains the integer n, the number of students' records. \n",
    "The next n lines contain the names and marks obtained by a student, each value separated by a space. \n",
    "The final line contains query_name, the name of a student to query.\n",
    "Constraints\n",
    "->2<=n<=10\n",
    "->0<=marks[i]<=100\n",
    "->length of marks array = 3\n",
    "Output Format\n",
    "Print one line: The average of the marks obtained by the particular student correct to 2 decimal places.\n",
    "Sample Input 0\n",
    "3\n",
    "Krishna 67 68 69\n",
    "Arjun 70 98 63\n",
    "Malika 52 56 60\n",
    "Malika\n",
    "Sample Output 0\n",
    "56.00\n",
    "Explanation 0\n",
    "Marks for Malika are {52,56,60} whose average is (52+56+60)/3 =56\n",
    "Sample Input 1\n",
    "2\n",
    "Harsh 25 26.5 28\n",
    "Anurag 26 28 30\n",
    "Harsh\n",
    "Sample Output 1\n",
    "26.50"
   ]
  },
  {
   "cell_type": "code",
   "execution_count": 1,
   "id": "29bc672b",
   "metadata": {},
   "outputs": [
    {
     "name": "stdout",
     "output_type": "stream",
     "text": [
      "4\n",
      "Ram 20 35 67\n",
      "Rita 35 67 89 100\n",
      "Sita 34 67 89 12\n",
      "Sam 23 45 78 91\n",
      "Sam\n",
      "59.25\n"
     ]
    }
   ],
   "source": [
    "if __name__ == '__main__':\n",
    "    n = int(input())\n",
    "    student_marks = {}\n",
    "    for _ in range(n):\n",
    "        name, *line = input().split()\n",
    "        scores = list(map(float, line))\n",
    "        student_marks[name] = scores\n",
    "    query_name = input()\n",
    "    marks = student_marks[query_name]\n",
    "    sum = 0\n",
    "    for i in marks:\n",
    "        sum = float(sum)+i \n",
    "    avg = sum/len(marks)\n",
    "    avg = '{0:.2f}'.format(avg)\n",
    "    print(avg)"
   ]
  },
  {
   "cell_type": "code",
   "execution_count": null,
   "id": "6ebb8585",
   "metadata": {},
   "outputs": [],
   "source": []
  }
 ],
 "metadata": {
  "kernelspec": {
   "display_name": "Python 3 (ipykernel)",
   "language": "python",
   "name": "python3"
  },
  "language_info": {
   "codemirror_mode": {
    "name": "ipython",
    "version": 3
   },
   "file_extension": ".py",
   "mimetype": "text/x-python",
   "name": "python",
   "nbconvert_exporter": "python",
   "pygments_lexer": "ipython3",
   "version": "3.9.12"
  }
 },
 "nbformat": 4,
 "nbformat_minor": 5
}
