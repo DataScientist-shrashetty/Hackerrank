{
 "cells": [
  {
   "cell_type": "code",
   "execution_count": null,
   "id": "53d6a0c0",
   "metadata": {},
   "outputs": [],
   "source": [
    "You are given a string and your task is to swap cases. \n",
    "In other words, convert all lowercase letters to uppercase letters and vice versa.\n",
    "\n",
    "For Example:\n",
    "    Www.HackerRank.com → wWW.hACKERrANK.COM\n",
    "    Pythonist 2 → pYTHONIST 2  \n",
    "\n",
    "Function Description\n",
    "Complete the swap_case function in the editor below.\n",
    "swap_case has the following parameters:\n",
    "    string s: the string to modify\n",
    "Returns\n",
    "    string: the modified string\n",
    "Input Format\n",
    "    A single line containing a string .\n",
    "Constraints\n",
    "    0<len(s)<=100\n",
    "Sample Input \n",
    "    HackerRank.com presents \"Pythonist 2\".\n",
    "Sample Output \n",
    "    hACKERrANK.COM PRESENTS \"pYTHONIST 2\"."
   ]
  },
  {
   "cell_type": "code",
   "execution_count": 1,
   "id": "27c63e29",
   "metadata": {},
   "outputs": [
    {
     "name": "stdout",
     "output_type": "stream",
     "text": [
      "hi I love You.Dont you love me?\n",
      "HI i LOVE yOU.dONT YOU LOVE ME?\n"
     ]
    }
   ],
   "source": [
    "def swap_case(s):\n",
    "    s = s.swapcase()\n",
    "    return s\n",
    "\n",
    "if __name__ == '__main__':\n",
    "    s = input()\n",
    "    result = swap_case(s)\n",
    "    print(result)"
   ]
  },
  {
   "cell_type": "code",
   "execution_count": null,
   "id": "85d587d7",
   "metadata": {},
   "outputs": [],
   "source": []
  }
 ],
 "metadata": {
  "kernelspec": {
   "display_name": "Python 3 (ipykernel)",
   "language": "python",
   "name": "python3"
  },
  "language_info": {
   "codemirror_mode": {
    "name": "ipython",
    "version": 3
   },
   "file_extension": ".py",
   "mimetype": "text/x-python",
   "name": "python",
   "nbconvert_exporter": "python",
   "pygments_lexer": "ipython3",
   "version": "3.9.12"
  }
 },
 "nbformat": 4,
 "nbformat_minor": 5
}
