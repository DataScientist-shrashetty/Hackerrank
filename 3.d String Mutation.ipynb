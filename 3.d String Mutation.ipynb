{
 "cells": [
  {
   "cell_type": "code",
   "execution_count": null,
   "id": "a569ac83",
   "metadata": {},
   "outputs": [],
   "source": [
    "We have seen that lists are mutable (they can be changed), and tuples are immutable (they cannot be changed).\n",
    "Let's try to understand this with an example.\n",
    "You are given an immutable string, and you want to make changes to it.\n",
    "Example\n",
    ">>> string = \"abracadabra\"\n",
    "You can access an index by:\n",
    ">>> print string[5]\n",
    "a\n",
    "What if you would like to assign a value?\n",
    ">>> string[5] = 'k' \n",
    "Traceback (most recent call last):\n",
    "  File \"<stdin>\", line 1, in <module>\n",
    "TypeError: 'str' object does not support item assignment\n",
    "How would you approach this?\n",
    "One solution is to convert the string to a list and then change the value.\n",
    "Example\n",
    ">>> string = \"abracadabra\"\n",
    ">>> l = list(string)\n",
    ">>> l[5] = 'k'\n",
    ">>> string = ''.join(l)\n",
    ">>> print string\n",
    "abrackdabra\n",
    "Another approach is to slice the string and join it back.\n",
    "Example\n",
    ">>> string = string[:5] + \"k\" + string[6:]\n",
    ">>> print string\n",
    "abrackdabra\n",
    "Task\n",
    "Read a given string, change the character at a given index and then print the modified string.\n",
    "Function Description\n",
    "Complete the mutate_string function in the editor below.\n",
    "mutate_string has the following parameters:\n",
    "string string: the string to change\n",
    "int position: the index to insert the character at\n",
    "string character: the character to insert\n",
    "Returns\n",
    "string: the altered string\n",
    "Input Format\n",
    "The first line contains a string,string .\n",
    "The next line contains an integer position, the index location and a string character, separated by a space.\n",
    "Sample Input\n",
    "STDIN           Function\n",
    "-----           --------\n",
    "abracadabra     s = 'abracadabra'\n",
    "5 k             position = 5, character = 'k'\n",
    "Sample Output\n",
    "abrackdabra"
   ]
  },
  {
   "cell_type": "code",
   "execution_count": 1,
   "id": "1f9f212f",
   "metadata": {},
   "outputs": [
    {
     "name": "stdout",
     "output_type": "stream",
     "text": [
      "abracadabra\n",
      "5 k\n",
      "abrackdabra\n"
     ]
    }
   ],
   "source": [
    "def mutate_string(string, position, character):\n",
    "    l = list(string)\n",
    "    l[position] = character\n",
    "    a = \"\".join(l)\n",
    "    return a\n",
    "if __name__ == '__main__':\n",
    "    s = input()\n",
    "    i, c = input().split()\n",
    "    s_new = mutate_string(s, int(i), c)\n",
    "    print(s_new)"
   ]
  },
  {
   "cell_type": "code",
   "execution_count": null,
   "id": "89c3de42",
   "metadata": {},
   "outputs": [],
   "source": []
  }
 ],
 "metadata": {
  "kernelspec": {
   "display_name": "Python 3 (ipykernel)",
   "language": "python",
   "name": "python3"
  },
  "language_info": {
   "codemirror_mode": {
    "name": "ipython",
    "version": 3
   },
   "file_extension": ".py",
   "mimetype": "text/x-python",
   "name": "python",
   "nbconvert_exporter": "python",
   "pygments_lexer": "ipython3",
   "version": "3.9.12"
  }
 },
 "nbformat": 4,
 "nbformat_minor": 5
}
