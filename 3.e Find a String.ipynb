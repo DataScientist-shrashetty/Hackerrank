{
 "cells": [
  {
   "cell_type": "code",
   "execution_count": null,
   "id": "9e3a1781",
   "metadata": {},
   "outputs": [],
   "source": [
    "In this challenge, the user enters a string and a substring. \n",
    "You have to print the number of times that the substring occurs in the given string. \n",
    "String traversal will take place from left to right, not from right to left.\n",
    "    NOTE: String letters are case-sensitive.\n",
    "Input Format\n",
    "The first line of input contains the original string. The next line contains the substring.\n",
    "Constraints\n",
    "    1<=len(string)<=200\n",
    "    Each character in the string is an ascii character.\n",
    "Output Format\n",
    "    Output the integer number indicating the total number of occurrences of the substring in the original string.\n",
    "Sample Input\n",
    "    ABCDCDC\n",
    "    CDC\n",
    "Sample Output\n",
    "    2\n",
    "\n",
    "Concept\n",
    "    Some string processing examples, such as these, might be useful.\n",
    "    There are a couple of new concepts:\n",
    "    In Python, the length of a string is found by the function len(s), where s is the string.\n",
    "    To traverse through the length of a string, use a for loop:\n",
    "\n",
    "        for i in range(0, len(s)):\n",
    "            print (s[i])\n",
    "        A range function is used to loop over some length:\n",
    "            range (0, 5)\n",
    "        Here, the range loops over 0 to 4. 5 is excluded."
   ]
  },
  {
   "cell_type": "code",
   "execution_count": 1,
   "id": "bba933ef",
   "metadata": {},
   "outputs": [
    {
     "name": "stdout",
     "output_type": "stream",
     "text": [
      "shrashetty shra shraddhashetty\n",
      "shra\n",
      "3\n"
     ]
    }
   ],
   "source": [
    "def count_substring(string, sub_string):\n",
    "    count=0\n",
    "    for i in range(0,len(string)):\n",
    "        if string[i:i+len(sub_string)]==sub_string:\n",
    "            count+=1\n",
    "    return count\n",
    "if __name__ == '__main__':\n",
    "    string = input().strip()\n",
    "    sub_string = input().strip()\n",
    "    count = count_substring(string, sub_string)\n",
    "    print(count)\n",
    "    "
   ]
  }
 ],
 "metadata": {
  "kernelspec": {
   "display_name": "Python 3 (ipykernel)",
   "language": "python",
   "name": "python3"
  },
  "language_info": {
   "codemirror_mode": {
    "name": "ipython",
    "version": 3
   },
   "file_extension": ".py",
   "mimetype": "text/x-python",
   "name": "python",
   "nbconvert_exporter": "python",
   "pygments_lexer": "ipython3",
   "version": "3.9.12"
  }
 },
 "nbformat": 4,
 "nbformat_minor": 5
}
