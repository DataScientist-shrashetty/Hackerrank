{
 "cells": [
  {
   "cell_type": "markdown",
   "id": "2d86d017",
   "metadata": {},
   "source": [
    "Assignment 1: Write a Python program to take 3 input and Find whether set is a strict superset of each of the sets.\n",
    "Print True, if is a strict superset of each of the sets. \n",
    "Otherwise, print False.\n",
    "\n",
    "Input: \n",
    "First input: The first line contains the space separated elements of set . \n",
    "Second input:The second line contains integer , the number of other sets. \n",
    "Third input: lines contains the space separated elements of the other sets.\n",
    "\n",
    "Sample Input: First Input: 0 1 2 3 4 5 6 7 8 9 10 11 12 23 45 84 78 Second Input: 2 Third Input: 1 2 3 4 5 100 11 12\n",
    "\n",
    "Sample Output: False\n",
    "\n",
    "Explanation:Set{ 0 1 2 3 4 5 6 7 8 9 10 11 12 23 45 84 78} is the strict superset of the set {1 2 3 4 5} but not of the set {100 11 12}because 100 is not in set . Hence, the output is False."
   ]
  },
  {
   "cell_type": "code",
   "execution_count": 1,
   "id": "2d12661f",
   "metadata": {},
   "outputs": [
    {
     "name": "stdout",
     "output_type": "stream",
     "text": [
      "1 2 3 4 5 19 20 89 90 30 40\n",
      "2\n",
      "1 2 3 4 5 19 20 89 90 30 40\n",
      "False\n"
     ]
    }
   ],
   "source": [
    "# Solution 1\n",
    "if __name__ == \"__main__\":\n",
    "    flag = 0\n",
    "    A = set(input().split())\n",
    "    entry = int(input())\n",
    "    if entry < 21 and entry > 0:\n",
    "        for i in range(entry):\n",
    "            B = set(input().split())\n",
    "            if not(A.issuperset(B)) or len(A) == len(B): \n",
    "                flag = 1\n",
    "                print(False)\n",
    "                break\n",
    "        if flag == 0:\n",
    "            print(True)"
   ]
  },
  {
   "cell_type": "code",
   "execution_count": 2,
   "id": "c8ffcbce",
   "metadata": {},
   "outputs": [
    {
     "name": "stdout",
     "output_type": "stream",
     "text": [
      "1 2 3 4 5 6 7\n",
      "3\n",
      "3 4 5 6 7\n",
      "1 2 4\n",
      "1 2 3 4\n",
      "True\n"
     ]
    }
   ],
   "source": [
    "# Solution 2\n",
    "if __name__ == \"__main__\":\n",
    "    my_set1 = set(map(int, input().split()))\n",
    "    for i in range(int(input())):\n",
    "        my_set2 = set(map(int, input().split()))\n",
    "        if my_set1.issuperset(my_set2) != True or len(my_set1) == len(my_set2): \n",
    "            print(False)\n",
    "            break \n",
    "    else: \n",
    "        print(True)"
   ]
  },
  {
   "cell_type": "code",
   "execution_count": null,
   "id": "31681c92",
   "metadata": {},
   "outputs": [],
   "source": []
  }
 ],
 "metadata": {
  "kernelspec": {
   "display_name": "Python 3 (ipykernel)",
   "language": "python",
   "name": "python3"
  },
  "language_info": {
   "codemirror_mode": {
    "name": "ipython",
    "version": 3
   },
   "file_extension": ".py",
   "mimetype": "text/x-python",
   "name": "python",
   "nbconvert_exporter": "python",
   "pygments_lexer": "ipython3",
   "version": "3.9.12"
  }
 },
 "nbformat": 4,
 "nbformat_minor": 5
}
