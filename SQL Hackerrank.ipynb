{
 "cells": [
  {
   "cell_type": "markdown",
   "id": "dfcc7e97",
   "metadata": {},
   "source": [
    "# SQL Hackerrank"
   ]
  },
  {
   "cell_type": "markdown",
   "id": "bafcf181",
   "metadata": {},
   "source": [
    "By Shraddha Shetty https://www.hackerrank.com/shraddhashetty01"
   ]
  },
  {
   "cell_type": "markdown",
   "id": "963a6193",
   "metadata": {},
   "source": [
    "## Basic SELECT"
   ]
  },
  {
   "cell_type": "markdown",
   "id": "8b37a6fa",
   "metadata": {},
   "source": [
    "#### 1.Employee Names\n",
    "Write a query that prints a list of employee names (i.e.: the name attribute) from the Employee table in alphabetical order.\n",
    "https://www.hackerrank.com/challenges/name-of-employees/problem?isFullScreen=true"
   ]
  },
  {
   "cell_type": "code",
   "execution_count": null,
   "id": "1c6fa904",
   "metadata": {},
   "outputs": [],
   "source": [
    "SELECT name\n",
    "FROM Employee\n",
    "ORDER BY name ASC;"
   ]
  },
  {
   "cell_type": "markdown",
   "id": "d801f68a",
   "metadata": {},
   "source": [
    "#### 2.Employee Salaries\n",
    "Write a query that prints a list of employee names (i.e.: the name attribute) for employees in \n",
    "Employee having a salary greater than $2000 per month who have been employees for less than 10 months. \n",
    "Sort your result by ascending employee_id.\n",
    "\n",
    "https://www.hackerrank.com/challenges/salary-of-employees/problem?isFullScreen=true"
   ]
  },
  {
   "cell_type": "code",
   "execution_count": null,
   "id": "869cc401",
   "metadata": {},
   "outputs": [],
   "source": [
    "SELECT name\n",
    "FROM Employee\n",
    "WHERE salary > 2000 AND months < 10\n",
    "ORDER BY employee_id ASC;"
   ]
  },
  {
   "cell_type": "markdown",
   "id": "200f782f",
   "metadata": {},
   "source": [
    "#### 3. Higher Than 75 Marks\n",
    "Query the Name of any student in STUDENTS who scored higher than 75 Marks. \n",
    "Order your output by the last three characters of each name. \n",
    "If two or more students both have names ending in the same last three characters (i.e.: Bobby, Robby, etc.), \n",
    "secondary sort them by ascending ID.\n",
    "\n",
    "https://www.hackerrank.com/challenges/more-than-75-marks/problem?isFullScreen=true"
   ]
  },
  {
   "cell_type": "code",
   "execution_count": null,
   "id": "89ffc817",
   "metadata": {},
   "outputs": [],
   "source": [
    "SELECT Name\n",
    "FROM STUDENTS\n",
    "WHERE MARKS > 75\n",
    "ORDER BY SUBSTR(Name, LENGTH(name)-2, 3), ID;"
   ]
  },
  {
   "cell_type": "markdown",
   "id": "5edcc841",
   "metadata": {},
   "source": [
    "#### 4. Select All\n",
    "\n",
    "https://www.hackerrank.com/challenges/select-all-sql/problem?isFullScreen=true"
   ]
  },
  {
   "cell_type": "code",
   "execution_count": null,
   "id": "ec261369",
   "metadata": {},
   "outputs": [],
   "source": [
    "SELECT *\n",
    "FROM CITY;"
   ]
  },
  {
   "cell_type": "markdown",
   "id": "6088b3cd",
   "metadata": {},
   "source": [
    "#### 5.Select By ID\n",
    "Query all columns for a city in CITY with the ID 1661.\n",
    "\n",
    "https://www.hackerrank.com/challenges/select-by-id/problem?isFullScreen=true"
   ]
  },
  {
   "cell_type": "code",
   "execution_count": null,
   "id": "5dfd17d5",
   "metadata": {},
   "outputs": [],
   "source": [
    "SELECT * \n",
    "FROM CITY\n",
    "WHERE ID = 1661;"
   ]
  },
  {
   "cell_type": "markdown",
   "id": "81755b36",
   "metadata": {},
   "source": [
    "#### 6. Revising the Select Query I\n",
    "\n",
    "Query all columns for all American cities in the CITY table with populations larger than 100000. \n",
    "The CountryCode for America is USA.\n",
    "\n",
    "https://www.hackerrank.com/challenges/revising-the-select-query/problem?isFullScreen=true"
   ]
  },
  {
   "cell_type": "code",
   "execution_count": null,
   "id": "3890f2c4",
   "metadata": {},
   "outputs": [],
   "source": [
    "SELECT *\n",
    "FROM CITY\n",
    "WHERE POPULATION > 100000\n",
    " AND COUNTRYCODE = 'USA';"
   ]
  },
  {
   "cell_type": "markdown",
   "id": "997d98c4",
   "metadata": {},
   "source": [
    "#### 7.Revising the Select Query II\n",
    "\n",
    "Query the NAME field for all American cities in the CITY table with populations larger than 120000. \n",
    "The CountryCode for America is USA.\n",
    "\n",
    "https://www.hackerrank.com/challenges/revising-the-select-query-2/problem?isFullScreen=true"
   ]
  },
  {
   "cell_type": "code",
   "execution_count": null,
   "id": "c743deaf",
   "metadata": {},
   "outputs": [],
   "source": [
    "SELECT NAME\n",
    "FROM CITY\n",
    "WHERE POPULATION > 120000 \n",
    "AND COUNTRYCODE = 'USA';"
   ]
  },
  {
   "cell_type": "markdown",
   "id": "a14eaa41",
   "metadata": {},
   "source": [
    "#### 8. Japanese Cities' Attributes\n",
    "Query all attributes of every Japanese city in the CITY table. The COUNTRYCODE for Japan is JPN.\n",
    "\n",
    "https://www.hackerrank.com/challenges/japanese-cities-attributes/problem?isFullScreen=true"
   ]
  },
  {
   "cell_type": "code",
   "execution_count": null,
   "id": "457697e1",
   "metadata": {},
   "outputs": [],
   "source": [
    "SELECT *\n",
    "FROM CITY\n",
    "WHERE COUNTRYCODE = 'JPN';"
   ]
  },
  {
   "cell_type": "markdown",
   "id": "a94ce44d",
   "metadata": {},
   "source": [
    "#### 9.Japanese Cities' Names\n",
    "\n",
    "Query the names of all the Japanese cities in the CITY table. The COUNTRYCODE for Japan is JPN.\n",
    "\n",
    "https://www.hackerrank.com/challenges/japanese-cities-name/problem?isFullScreen=true"
   ]
  },
  {
   "cell_type": "code",
   "execution_count": null,
   "id": "813479e4",
   "metadata": {},
   "outputs": [],
   "source": [
    "SELECT NAME\n",
    "FROM CITY\n",
    "WHERE COUNTRYCODE = 'JPN';"
   ]
  },
  {
   "cell_type": "markdown",
   "id": "a4d5603a",
   "metadata": {},
   "source": [
    "#### 10. Weather Observation Station 1\n",
    "Query a list of CITY and STATE from the STATION table.\n",
    "\n",
    "https://www.hackerrank.com/challenges/weather-observation-station-1/problem?isFullScreen=true"
   ]
  },
  {
   "cell_type": "code",
   "execution_count": null,
   "id": "ed1185c1",
   "metadata": {},
   "outputs": [],
   "source": [
    "SELECT CITY, STATE\n",
    "FROM STATION;"
   ]
  },
  {
   "cell_type": "markdown",
   "id": "2238679f",
   "metadata": {},
   "source": [
    "#### 11.Weather Observation Station 3\n",
    "\n",
    "Query a list of CITY names from STATION for cities that have an even ID number. \n",
    "Print the results in any order, but exclude duplicates from the answer.\n",
    "\n",
    "https://www.hackerrank.com/challenges/weather-observation-station-3/problem?isFullScreen=true"
   ]
  },
  {
   "cell_type": "code",
   "execution_count": null,
   "id": "ba4effd2",
   "metadata": {},
   "outputs": [],
   "source": [
    "SELECT DISTINCT CITY\n",
    "FROM STATION \n",
    "WHERE ID%2 = 0;"
   ]
  },
  {
   "cell_type": "markdown",
   "id": "4dcffdfd",
   "metadata": {},
   "source": [
    "#### 12.Weather Observation Station 4\n",
    "Find the difference between the total number of CITY entries in the table and the number of distinct CITY entries in the table.\n",
    "\n",
    "https://www.hackerrank.com/challenges/weather-observation-station-4/problem?isFullScreen=true"
   ]
  },
  {
   "cell_type": "code",
   "execution_count": null,
   "id": "ff377f2c",
   "metadata": {},
   "outputs": [],
   "source": [
    "SELECT COUNT(CITY) - COUNT(DISTINCT CITY) \n",
    "FROM STATION;"
   ]
  },
  {
   "cell_type": "markdown",
   "id": "a83c8d62",
   "metadata": {},
   "source": [
    "#### 13. Weather Observation Station 5\n",
    "\n",
    "Query the two cities in STATION with the shortest and longest CITY names, \n",
    "as well as their respective lengths (i.e.: number of characters in the name). \n",
    "If there is more than one smallest or largest city, choose the one that comes first when ordered alphabetically.\n",
    "\n",
    "https://www.hackerrank.com/challenges/weather-observation-station-5/problem?isFullScreen=true"
   ]
  },
  {
   "cell_type": "code",
   "execution_count": null,
   "id": "9bf2db9a",
   "metadata": {},
   "outputs": [],
   "source": [
    "SELECT CITY AS c, LENGTH(CITY) l\n",
    "FROM STATION\n",
    "ORDER BY l DESC, c ASC\n",
    "LIMIT 1;\n",
    "SELECT CITY AS c, LENGTH(CITY) l\n",
    "FROM STATION\n",
    "ORDER BY l ASC, c ASC\n",
    "LIMIT 1;"
   ]
  },
  {
   "cell_type": "markdown",
   "id": "32bd90d1",
   "metadata": {},
   "source": [
    "#### 14.Weather Observation Station 6\n",
    "Query the list of CITY names starting with vowels (i.e., a, e, i, o, or u) from STATION. \n",
    "Your result cannot contain duplicates.\n",
    "\n",
    "https://www.hackerrank.com/challenges/weather-observation-station-6/problem?isFullScreen=true"
   ]
  },
  {
   "cell_type": "code",
   "execution_count": null,
   "id": "9301f9a3",
   "metadata": {},
   "outputs": [],
   "source": [
    "SELECT DISTINCT CITY FROM STATION\n",
    "WHERE CITY LIKE \"A%\" OR CITY LIKE \"E%\" OR  CITY LIKE \"I%\" OR  CITY LIKE \"O%\" OR  CITY LIKE \"U%\";"
   ]
  },
  {
   "cell_type": "markdown",
   "id": "a26142b9",
   "metadata": {},
   "source": [
    "#### 15.Weather Observation Station 7\n",
    "\n",
    "Query the list of CITY names ending with vowels (a, e, i, o, u) from STATION. \n",
    "Your result cannot contain duplicates.\n",
    "\n",
    "https://www.hackerrank.com/challenges/weather-observation-station-7/problem?isFullScreen=true"
   ]
  },
  {
   "cell_type": "code",
   "execution_count": null,
   "id": "1984659e",
   "metadata": {},
   "outputs": [],
   "source": [
    "SELECT DISTINCT CITY FROM STATION\n",
    "WHERE CITY LIKE \"%A\" OR CITY LIKE \"%E\" OR  CITY LIKE \"%I\" OR  CITY LIKE \"%O\" OR  CITY LIKE \"%U\";"
   ]
  },
  {
   "cell_type": "markdown",
   "id": "5828e33d",
   "metadata": {},
   "source": [
    "#### 16.Weather Observation Station 8\n",
    "\n",
    "Query the list of CITY names from STATION which have vowels (i.e., a, e, i, o, and u) as both their first and last characters. \n",
    "Your result cannot contain duplicates.\n",
    "\n",
    "https://www.hackerrank.com/challenges/weather-observation-station-8/problem?isFullScreen=true"
   ]
  },
  {
   "cell_type": "code",
   "execution_count": null,
   "id": "4867bde8",
   "metadata": {},
   "outputs": [],
   "source": [
    "SELECT DISTINCT CITY FROM STATION\n",
    "WHERE (CITY LIKE \"A%\" OR CITY LIKE \"E%\" OR  CITY LIKE \"I%\" OR  CITY LIKE \"O%\" OR  CITY LIKE \"U%\") AND\n",
    "(CITY LIKE \"%A\" OR CITY LIKE \"%E\" OR  CITY LIKE \"%I\" OR  CITY LIKE \"%O\" OR  CITY LIKE \"%U\") ;"
   ]
  },
  {
   "cell_type": "markdown",
   "id": "bca35981",
   "metadata": {},
   "source": [
    "#### 17.Weather Observation Station 9\n",
    "Query the list of CITY names from STATION that do not start with vowels. \n",
    "Your result cannot contain duplicates\n",
    "\n",
    "https://www.hackerrank.com/challenges/weather-observation-station-9/problem?isFullScreen=true"
   ]
  },
  {
   "cell_type": "code",
   "execution_count": null,
   "id": "bd51cec1",
   "metadata": {},
   "outputs": [],
   "source": [
    "SELECT DISTINCT CITY \n",
    "FROM STATION\n",
    "WHERE NOT (CITY LIKE \"A%\" OR CITY LIKE \"E%\" OR  CITY LIKE \"I%\" OR  CITY LIKE \"O%\" OR  CITY LIKE \"U%\");"
   ]
  },
  {
   "cell_type": "markdown",
   "id": "9aadf817",
   "metadata": {},
   "source": [
    "#### 18. Weather Observation Station 10\n",
    "Query the list of CITY names from STATION that do not end with vowels. Your result cannot contain duplicates.\n",
    "\n",
    "https://www.hackerrank.com/challenges/weather-observation-station-10/problem?isFullScreen=true"
   ]
  },
  {
   "cell_type": "code",
   "execution_count": null,
   "id": "459c5884",
   "metadata": {},
   "outputs": [],
   "source": [
    "SELECT DISTINCT CITY FROM STATION\n",
    "WHERE NOT (CITY LIKE \"%A\" OR CITY LIKE \"%E\" OR  CITY LIKE \"%I\" OR  CITY LIKE \"%O\" OR  CITY LIKE \"%U\");"
   ]
  },
  {
   "cell_type": "markdown",
   "id": "43984432",
   "metadata": {},
   "source": [
    "#### 19.Weather Observation Station 11\n",
    "\n",
    "Query the list of CITY names from STATION that either do not start with vowels or do not end with vowels. \n",
    "Your result cannot contain duplicates.\n",
    "\n",
    "https://www.hackerrank.com/challenges/weather-observation-station-11/problem?isFullScreen=true"
   ]
  },
  {
   "cell_type": "code",
   "execution_count": null,
   "id": "8b8c0e0d",
   "metadata": {},
   "outputs": [],
   "source": [
    "SELECT DISTINCT CITY FROM STATION\n",
    "WHERE NOT( \n",
    "    (CITY LIKE \"A%\" OR CITY LIKE \"E%\" OR  CITY LIKE \"I%\" OR  CITY LIKE \"O%\" OR  CITY LIKE \"U%\") \n",
    "    AND\n",
    "    (CITY LIKE \"%A\" OR CITY LIKE \"%E\" OR  CITY LIKE \"%I\" OR  CITY LIKE \"%O\" OR  CITY LIKE \"%U\")\n",
    "         ) ;"
   ]
  },
  {
   "cell_type": "markdown",
   "id": "f3f9257a",
   "metadata": {},
   "source": [
    "#### 20.Weather Observation Station 12\n",
    "\n",
    "Query the list of CITY names from STATION that do not start with vowels and do not end with vowels.\n",
    "Your result cannot contain duplicates.\n",
    "\n",
    "https://www.hackerrank.com/challenges/weather-observation-station-12/problem?isFullScreen=true"
   ]
  },
  {
   "cell_type": "code",
   "execution_count": null,
   "id": "c6c9283b",
   "metadata": {},
   "outputs": [],
   "source": [
    "SELECT DISTINCT CITY FROM STATION\n",
    "WHERE \n",
    "NOT(CITY LIKE \"A%\" OR CITY LIKE \"E%\" OR  CITY LIKE \"I%\" OR  CITY LIKE \"O%\" OR  CITY LIKE \"U%\") \n",
    "AND\n",
    "NOT (CITY LIKE \"%A\" OR CITY LIKE \"%E\" OR  CITY LIKE \"%I\" OR  CITY LIKE \"%O\" OR  CITY LIKE \"%U\");"
   ]
  }
 ],
 "metadata": {
  "kernelspec": {
   "display_name": "Python 3 (ipykernel)",
   "language": "python",
   "name": "python3"
  },
  "language_info": {
   "codemirror_mode": {
    "name": "ipython",
    "version": 3
   },
   "file_extension": ".py",
   "mimetype": "text/x-python",
   "name": "python",
   "nbconvert_exporter": "python",
   "pygments_lexer": "ipython3",
   "version": "3.9.12"
  }
 },
 "nbformat": 4,
 "nbformat_minor": 5
}
